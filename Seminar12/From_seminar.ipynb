{
  "metadata": {
    "language_info": {
      "codemirror_mode": {
        "name": "python",
        "version": 3
      },
      "file_extension": ".py",
      "mimetype": "text/x-python",
      "name": "python",
      "nbconvert_exporter": "python",
      "pygments_lexer": "ipython3",
      "version": "3.8"
    },
    "kernelspec": {
      "name": "python",
      "display_name": "Python (Pyodide)",
      "language": "python"
    }
  },
  "nbformat_minor": 4,
  "nbformat": 4,
  "cells": [
    {
      "cell_type": "code",
      "source": "19310/31",
      "metadata": {
        "trusted": true
      },
      "execution_count": 1,
      "outputs": [
        {
          "execution_count": 1,
          "output_type": "execute_result",
          "data": {
            "text/plain": "622.9032258064516"
          },
          "metadata": {}
        }
      ]
    },
    {
      "cell_type": "code",
      "source": "52150/51",
      "metadata": {
        "trusted": true
      },
      "execution_count": 2,
      "outputs": [
        {
          "execution_count": 2,
          "output_type": "execute_result",
          "data": {
            "text/plain": "1022.5490196078431"
          },
          "metadata": {}
        }
      ]
    },
    {
      "cell_type": "code",
      "source": "74570/61",
      "metadata": {
        "trusted": true
      },
      "execution_count": 3,
      "outputs": [
        {
          "execution_count": 3,
          "output_type": "execute_result",
          "data": {
            "text/plain": "1222.4590163934427"
          },
          "metadata": {}
        }
      ]
    },
    {
      "cell_type": "code",
      "source": "622.90/31",
      "metadata": {
        "trusted": true
      },
      "execution_count": 11,
      "outputs": [
        {
          "execution_count": 11,
          "output_type": "execute_result",
          "data": {
            "text/plain": "20.093548387096774"
          },
          "metadata": {}
        }
      ]
    },
    {
      "cell_type": "code",
      "source": "1022.54/51",
      "metadata": {
        "trusted": true
      },
      "execution_count": 12,
      "outputs": [
        {
          "execution_count": 12,
          "output_type": "execute_result",
          "data": {
            "text/plain": "20.04980392156863"
          },
          "metadata": {}
        }
      ]
    },
    {
      "cell_type": "code",
      "source": "1222.45/61",
      "metadata": {
        "trusted": true
      },
      "execution_count": 10,
      "outputs": [
        {
          "execution_count": 10,
          "output_type": "execute_result",
          "data": {
            "text/plain": "20.04016393442623"
          },
          "metadata": {}
        }
      ]
    },
    {
      "cell_type": "code",
      "source": "48*20*48",
      "metadata": {
        "trusted": true
      },
      "execution_count": 22,
      "outputs": [
        {
          "execution_count": 22,
          "output_type": "execute_result",
          "data": {
            "text/plain": "46080"
          },
          "metadata": {}
        }
      ]
    },
    {
      "cell_type": "code",
      "source": "68*68",
      "metadata": {
        "trusted": true
      },
      "execution_count": 38,
      "outputs": [
        {
          "execution_count": 38,
          "output_type": "execute_result",
          "data": {
            "text/plain": "4624"
          },
          "metadata": {}
        }
      ]
    },
    {
      "cell_type": "code",
      "source": "from sympy import *\n\na, b, c = symbols('a b c')\n\nlinsolve([Eq(961*a+31*b+c, 19310), Eq(2601*a+51*b+c, 52150), Eq(3721*a+61*b+c, 74570)], (a,b,c))\n",
      "metadata": {
        "trusted": true
      },
      "execution_count": 17,
      "outputs": [
        {
          "execution_count": 17,
          "output_type": "execute_result",
          "data": {
            "text/plain": "{(20, 2, 28)}",
            "text/latex": "$\\displaystyle \\left\\{\\left( 20, \\  2, \\  28\\right)\\right\\}$"
          },
          "metadata": {}
        }
      ]
    },
    {
      "cell_type": "code",
      "source": "def fan(x):\n    return 20*x*x+2*x+28\n    \nfan(68)",
      "metadata": {
        "trusted": true
      },
      "execution_count": 37,
      "outputs": [
        {
          "execution_count": 37,
          "output_type": "execute_result",
          "data": {
            "text/plain": "92644"
          },
          "metadata": {}
        }
      ]
    },
    {
      "cell_type": "code",
      "source": "f=a*x*x+b*y*y+c*x+d*y+e+f",
      "metadata": {},
      "execution_count": null,
      "outputs": []
    },
    {
      "cell_type": "code",
      "source": "from sympy import *\n\na, b, c, d, e, f = symbols('a b c d e f')\n\nlinsolve([Eq(a*961+b*25+c*31+d*5+e*31*5+f, 14184), Eq(a*2601+b*8+c*51+d*2+e*51*2+f, 33889), Eq(a*3721+b*16+c*61+d*4+e*61*4+f, 48953), Eq(a*2304+b*25+c*48+d*5+e*48*5+f, 31558), Eq(a*2916+b*81+c*54+d*9+e*54*9+f, 41466), Eq(a*1225+b*49+c*35+d*7+e*35*7+f, 18392)], (a,b,c,d,e,f))",
      "metadata": {
        "trusted": true
      },
      "execution_count": 44,
      "outputs": [
        {
          "execution_count": 44,
          "output_type": "execute_result",
          "data": {
            "text/plain": "{(2275128/189485, 466587/189485, 6306368/189485, 11638054/189485, 1522438/189485, -73011/189485)}",
            "text/latex": "$\\displaystyle \\left\\{\\left( \\frac{2275128}{189485}, \\  \\frac{466587}{189485}, \\  \\frac{6306368}{189485}, \\  \\frac{11638054}{189485}, \\  \\frac{1522438}{189485}, \\  - \\frac{73011}{189485}\\right)\\right\\}$"
          },
          "metadata": {}
        }
      ]
    },
    {
      "cell_type": "code",
      "source": "def fan(x, y):\n    return 2275128/189485*x*x+466587/189485*y*y+6306368/189485*x+11638054/189485*y+1522438/189485*x*y-73011/189485\n    \nfan(61, 4)",
      "metadata": {
        "trusted": true
      },
      "execution_count": 46,
      "outputs": [
        {
          "execution_count": 46,
          "output_type": "execute_result",
          "data": {
            "text/plain": "48953.00000000001"
          },
          "metadata": {}
        }
      ]
    },
    {
      "cell_type": "code",
      "source": "",
      "metadata": {},
      "execution_count": null,
      "outputs": []
    }
  ]
}